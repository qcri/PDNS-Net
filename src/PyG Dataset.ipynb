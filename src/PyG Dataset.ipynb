{
 "cells": [
  {
   "cell_type": "markdown",
   "metadata": {},
   "source": [
    "# Load DNS and mDNS datasets"
   ]
  },
  {
   "cell_type": "code",
   "execution_count": 1,
   "metadata": {},
   "outputs": [],
   "source": [
    "import os\n",
    "import sys\n",
    "\n",
    "import numpy as np\n",
    "import pandas as pd\n",
    "\n",
    "module_path = os.path.abspath(os.path.join('.'))\n",
    "if module_path not in sys.path:\n",
    "    sys.path.append(module_path)\n",
    "\n",
    "import torch\n",
    "import torch_geometric.transforms as T\n",
    "\n",
    "from loader import DNS"
   ]
  },
  {
   "cell_type": "code",
   "execution_count": 2,
   "metadata": {},
   "outputs": [
    {
     "data": {
      "text/plain": [
       "<torch._C.Generator at 0x7f0e3cd5cc30>"
      ]
     },
     "execution_count": 2,
     "metadata": {},
     "output_type": "execute_result"
    }
   ],
   "source": [
    "cuda_device = 4\n",
    "\n",
    "if torch.cuda.is_available():\n",
    "    device = torch.device('cuda' if torch.cuda.is_available() else 'cpu')\n",
    "    torch.cuda.set_device(cuda_device)\n",
    "    \n",
    "torch.manual_seed(42)"
   ]
  },
  {
   "cell_type": "markdown",
   "metadata": {},
   "source": [
    "## Load Graphs"
   ]
  },
  {
   "cell_type": "code",
   "execution_count": 3,
   "metadata": {},
   "outputs": [],
   "source": [
    "kg_path = lambda graph_name: f'../data/{graph_name}'"
   ]
  },
  {
   "cell_type": "markdown",
   "metadata": {
    "tags": []
   },
   "source": [
    "#### mDNS"
   ]
  },
  {
   "cell_type": "code",
   "execution_count": 4,
   "metadata": {},
   "outputs": [
    {
     "name": "stdout",
     "output_type": "stream",
     "text": [
      "Remove parallel edges: Series([], dtype: int64)\n"
     ]
    },
    {
     "data": {
      "text/plain": [
       "HeteroData(\n",
       "  \u001b[1mip_node\u001b[0m={\n",
       "    num_nodes=4505,\n",
       "    x=[4505, 2]\n",
       "  },\n",
       "  \u001b[1mdomain_node\u001b[0m={\n",
       "    num_nodes=7495,\n",
       "    x=[7495, 10],\n",
       "    y=[7495],\n",
       "    train_mask=[7495],\n",
       "    test_mask=[7495],\n",
       "    val_mask=[7495]\n",
       "  },\n",
       "  \u001b[1m(domain_node, apex, domain_node)\u001b[0m={ edge_index=[2, 3320] },\n",
       "  \u001b[1m(ip_node, resolves, domain_node)\u001b[0m={ edge_index=[2, 34119] },\n",
       "  \u001b[1m(domain_node, similar, domain_node)\u001b[0m={ edge_index=[2, 3012] },\n",
       "  \u001b[1m(domain_node, rev_resolves, ip_node)\u001b[0m={ edge_index=[2, 34119] }\n",
       ")"
      ]
     },
     "execution_count": 4,
     "metadata": {},
     "output_type": "execute_result"
    }
   ],
   "source": [
    "dataset = DNS(root=kg_path('mDNS'), transform=T.Compose([T.NormalizeFeatures(), T.ToUndirected()]))\n",
    "dataset[0]"
   ]
  },
  {
   "cell_type": "markdown",
   "metadata": {
    "tags": []
   },
   "source": [
    "#### DNS"
   ]
  },
  {
   "cell_type": "code",
   "execution_count": 5,
   "metadata": {},
   "outputs": [
    {
     "name": "stdout",
     "output_type": "stream",
     "text": [
      "Remove parallel edges: type\n",
      "similar    50910\n",
      "dtype: int64\n"
     ]
    },
    {
     "data": {
      "text/plain": [
       "HeteroData(\n",
       "  \u001b[1mip_node\u001b[0m={\n",
       "    num_nodes=73593,\n",
       "    x=[73593, 2]\n",
       "  },\n",
       "  \u001b[1mdomain_node\u001b[0m={\n",
       "    num_nodes=373475,\n",
       "    x=[373475, 10],\n",
       "    y=[373475],\n",
       "    train_mask=[373475],\n",
       "    test_mask=[373475],\n",
       "    val_mask=[373475]\n",
       "  },\n",
       "  \u001b[1m(domain_node, apex, domain_node)\u001b[0m={ edge_index=[2, 178944] },\n",
       "  \u001b[1m(domain_node, resolves, ip_node)\u001b[0m={ edge_index=[2, 730438] },\n",
       "  \u001b[1m(domain_node, similar, domain_node)\u001b[0m={ edge_index=[2, 155356] },\n",
       "  \u001b[1m(ip_node, rev_resolves, domain_node)\u001b[0m={ edge_index=[2, 730438] }\n",
       ")"
      ]
     },
     "execution_count": 5,
     "metadata": {},
     "output_type": "execute_result"
    }
   ],
   "source": [
    "dataset = DNS(root=kg_path('DNS'), transform=T.Compose([T.NormalizeFeatures(), T.ToUndirected()]))\n",
    "dataset[0]"
   ]
  },
  {
   "cell_type": "code",
   "execution_count": 6,
   "metadata": {},
   "outputs": [
    {
     "data": {
      "text/plain": [
       "Data(\n",
       "  node_type=[447068],\n",
       "  x=[447068, 12],\n",
       "  edge_index=[2, 897588],\n",
       "  edge_type=[897588],\n",
       "  train_mask=[447068],\n",
       "  val_mask=[447068],\n",
       "  test_mask=[447068],\n",
       "  y=[447068],\n",
       "  edge_map={\n",
       "    0=[2],\n",
       "    1=[2],\n",
       "    2=[2]\n",
       "  },\n",
       "  num_nodes=447068\n",
       ")"
      ]
     },
     "execution_count": 6,
     "metadata": {},
     "output_type": "execute_result"
    }
   ],
   "source": [
    "dataset.to_homogeneous()"
   ]
  },
  {
   "cell_type": "code",
   "execution_count": null,
   "metadata": {},
   "outputs": [],
   "source": []
  }
 ],
 "metadata": {
  "kernelspec": {
   "display_name": "Python 3",
   "language": "python",
   "name": "python3"
  },
  "language_info": {
   "codemirror_mode": {
    "name": "ipython",
    "version": 3
   },
   "file_extension": ".py",
   "mimetype": "text/x-python",
   "name": "python",
   "nbconvert_exporter": "python",
   "pygments_lexer": "ipython3",
   "version": "3.8.5"
  }
 },
 "nbformat": 4,
 "nbformat_minor": 4
}
