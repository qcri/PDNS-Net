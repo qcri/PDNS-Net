{
 "cells": [
  {
   "cell_type": "markdown",
   "metadata": {},
   "source": [
    "# Load DNS and mDNS datasets"
   ]
  },
  {
   "cell_type": "code",
   "execution_count": 1,
   "metadata": {},
   "outputs": [],
   "source": [
    "import os\n",
    "import sys\n",
    "\n",
    "import numpy as np\n",
    "import pandas as pd\n",
    "\n",
    "module_path = os.path.abspath(os.path.join('.'))\n",
    "if module_path not in sys.path:\n",
    "    sys.path.append(module_path)\n",
    "\n",
    "import torch\n",
    "import torch_geometric.transforms as T\n",
    "\n",
    "from libs.loader import DNS\n",
    "from libs.utils import score"
   ]
  },
  {
   "cell_type": "code",
   "execution_count": null,
   "metadata": {},
   "outputs": [],
   "source": []
  },
  {
   "cell_type": "markdown",
   "metadata": {},
   "source": [
    "## Load Graphs"
   ]
  },
  {
   "cell_type": "code",
   "execution_count": 2,
   "metadata": {},
   "outputs": [],
   "source": [
    "kg_path = lambda graph_name: f'./data/{graph_name}'"
   ]
  },
  {
   "cell_type": "markdown",
   "metadata": {
    "tags": []
   },
   "source": [
    "#### mDNS"
   ]
  },
  {
   "cell_type": "code",
   "execution_count": 3,
   "metadata": {},
   "outputs": [],
   "source": [
    "# dataset = DNS(root=kg_path('mDNS'), transform=T.Compose([T.NormalizeFeatures(), T.ToUndirected()]), balance_gt=True)\n",
    "# data = dataset[0]\n",
    "# data['domain_node']['test_mask'].unique(return_counts=True)"
   ]
  },
  {
   "cell_type": "markdown",
   "metadata": {
    "tags": []
   },
   "source": [
    "#### DNS"
   ]
  },
  {
   "cell_type": "code",
   "execution_count": 4,
   "metadata": {},
   "outputs": [
    {
     "name": "stdout",
     "output_type": "stream",
     "text": [
      "Remove parallel edges: type\n",
      "similar    50910\n",
      "dtype: int64\n"
     ]
    },
    {
     "data": {
      "text/plain": [
       "(tensor([False,  True]), tensor([366174,   7301]))"
      ]
     },
     "execution_count": 4,
     "metadata": {},
     "output_type": "execute_result"
    }
   ],
   "source": [
    "dataset = DNS(root=kg_path('DNS'), transform=T.Compose([T.NormalizeFeatures(), T.ToUndirected()]))\n",
    "data = dataset[0]\n",
    "data['domain_node']['test_mask'].unique(return_counts=True)"
   ]
  },
  {
   "cell_type": "code",
   "execution_count": 5,
   "metadata": {},
   "outputs": [
    {
     "data": {
      "text/plain": [
       "Data(\n",
       "  node_type=[447068],\n",
       "  x=[447068, 12],\n",
       "  edge_index=[2, 897588],\n",
       "  edge_type=[897588],\n",
       "  train_mask=[447068],\n",
       "  val_mask=[447068],\n",
       "  test_mask=[447068],\n",
       "  y=[447068],\n",
       "  edge_map={\n",
       "    0=[2],\n",
       "    1=[2],\n",
       "    2=[2]\n",
       "  },\n",
       "  num_nodes=447068\n",
       ")"
      ]
     },
     "execution_count": 5,
     "metadata": {},
     "output_type": "execute_result"
    }
   ],
   "source": [
    "homo_data = dataset.to_homogeneous()\n",
    "\n",
    "homo_data"
   ]
  },
  {
   "cell_type": "code",
   "execution_count": 6,
   "metadata": {},
   "outputs": [],
   "source": [
    "import torch\n",
    "import torch.nn.functional as F\n",
    "import torch.nn as nn\n",
    "from torch_geometric.nn import GATConv, HeteroConv, Linear\n",
    "\n",
    "\n",
    "class HeteroGNN(torch.nn.Module):\n",
    "    def __init__(self, metadata, hidden_channels, out_channels, num_layers):\n",
    "        super().__init__()\n",
    "\n",
    "        self.convs = torch.nn.ModuleList()\n",
    "        for _ in range(num_layers):\n",
    "            conv = HeteroConv({\n",
    "                edge_type: GATConv((-1,-1), hidden_channels)\n",
    "                for edge_type in metadata[1]\n",
    "            })\n",
    "            self.convs.append(conv)\n",
    "\n",
    "        self.lin = Linear(hidden_channels, out_channels)\n",
    "\n",
    "    def forward(self, x_dict, edge_index_dict):\n",
    "        for conv in self.convs:\n",
    "            x_dict = conv(x_dict, edge_index_dict)\n",
    "            x_dict = {key: F.leaky_relu(x) for key, x in x_dict.items()}\n",
    "        return self.lin(x_dict['domain_node'])\n",
    "    \n",
    "\n",
    "model = HeteroGNN(data.metadata(), hidden_channels=64, out_channels=2,\n",
    "                  num_layers=2)"
   ]
  },
  {
   "cell_type": "code",
   "execution_count": 7,
   "metadata": {},
   "outputs": [
    {
     "name": "stdout",
     "output_type": "stream",
     "text": [
      "Epoch: 020, Loss: 0.3181, Train: 0.8657, Val: 0.8704, Test: 0.8651\n",
      "Epoch: 040, Loss: 0.2433, Train: 0.8923, Val: 0.8835, Test: 0.8888\n",
      "Epoch: 060, Loss: 0.2262, Train: 0.8961, Val: 0.8876, Test: 0.8925\n",
      "Epoch: 080, Loss: 0.2077, Train: 0.9109, Val: 0.9053, Test: 0.9080\n",
      "Epoch: 100, Loss: 0.1819, Train: 0.9269, Val: 0.9248, Test: 0.9234\n",
      "Epoch: 120, Loss: 0.1668, Train: 0.9373, Val: 0.9336, Test: 0.9299\n",
      "Epoch: 140, Loss: 0.1501, Train: 0.9436, Val: 0.9408, Test: 0.9381\n",
      "Epoch: 160, Loss: 0.1431, Train: 0.9487, Val: 0.9491, Test: 0.9397\n",
      "Epoch: 180, Loss: 0.1405, Train: 0.9496, Val: 0.9491, Test: 0.9403\n",
      "Epoch: 200, Loss: 0.1391, Train: 0.9503, Val: 0.9495, Test: 0.9410\n",
      "tn, fp, fn, tp 1068 264 167 5802\n",
      "tn, fp, fn, tp 1068 264 167 5802\n",
      "acc :0.94\n",
      "f1 :0.94\n",
      "auc :0.89\n",
      "prec :0.96\n",
      "recall :0.97\n",
      "fpr :0.20\n"
     ]
    }
   ],
   "source": [
    "cuda_device = 3\n",
    "torch.manual_seed(42)\n",
    "\n",
    "if torch.cuda.is_available():\n",
    "    device = torch.device('cuda' if torch.cuda.is_available() else 'cpu')\n",
    "    torch.cuda.set_device(cuda_device)\n",
    "\n",
    "    data, model = data.to(device), model.to(device)\n",
    "\n",
    "with torch.no_grad():  # Initialize lazy modules.\n",
    "    out = model(data.x_dict, data.edge_index_dict)\n",
    "\n",
    "optimizer = torch.optim.Adam(model.parameters(), lr=0.005, weight_decay=0.001)\n",
    "\n",
    "\n",
    "def train():\n",
    "    model.train()\n",
    "    optimizer.zero_grad()\n",
    "    out = model(data.x_dict, data.edge_index_dict)\n",
    "    mask = data['domain_node'].train_mask\n",
    "    loss = F.cross_entropy(out[mask], data['domain_node'].y[mask])\n",
    "    loss.backward()\n",
    "    optimizer.step()\n",
    "    return float(loss)\n",
    "\n",
    "\n",
    "@torch.no_grad()\n",
    "def test():\n",
    "    model.eval()\n",
    "    pred = model(data.x_dict, data.edge_index_dict).argmax(dim=-1)\n",
    "\n",
    "    accs = []\n",
    "    for split in ['train_mask', 'val_mask', 'test_mask']:\n",
    "        mask = data['domain_node'][split]\n",
    "        acc = (pred[mask] == data['domain_node'].y[mask]).sum() / mask.sum()\n",
    "        accs.append(float(acc))\n",
    "    return accs\n",
    "\n",
    "\n",
    "for epoch in range(1, 201):\n",
    "    loss = train()\n",
    "    train_acc, val_acc, test_acc = test()\n",
    "    if epoch % 20 == 0:\n",
    "        print(f'Epoch: {epoch:03d}, Loss: {loss:.4f}, Train: {train_acc:.4f}, '\n",
    "              f'Val: {val_acc:.4f}, Test: {test_acc:.4f}')\n",
    "    \n",
    "model.eval()\n",
    "with torch.no_grad():\n",
    "    pred = model(data.x_dict, data.edge_index_dict).argmax(dim=-1)\n",
    "mask = data['domain_node']['test_mask']\n",
    "scores = score(pred[mask],data['domain_node'].y[mask])\n",
    "for metric, score in scores.items():\n",
    "    print(metric, ':{:.2f}'.format(score))"
   ]
  },
  {
   "cell_type": "code",
   "execution_count": null,
   "metadata": {},
   "outputs": [],
   "source": []
  }
 ],
 "metadata": {
  "kernelspec": {
   "display_name": "Python 3",
   "language": "python",
   "name": "python3"
  },
  "language_info": {
   "codemirror_mode": {
    "name": "ipython",
    "version": 3
   },
   "file_extension": ".py",
   "mimetype": "text/x-python",
   "name": "python",
   "nbconvert_exporter": "python",
   "pygments_lexer": "ipython3",
   "version": "3.8.5"
  }
 },
 "nbformat": 4,
 "nbformat_minor": 4
}
