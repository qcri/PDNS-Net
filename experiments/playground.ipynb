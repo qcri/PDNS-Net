{
 "cells": [
  {
   "cell_type": "markdown",
   "metadata": {},
   "source": [
    "# Load DNS and mDNS datasets"
   ]
  },
  {
   "cell_type": "code",
   "execution_count": 2,
   "metadata": {},
   "outputs": [],
   "source": [
    "import os\n",
    "import sys\n",
    "\n",
    "import numpy as np\n",
    "import pandas as pd\n",
    "\n",
    "module_path = os.path.abspath(os.path.join('.'))\n",
    "if module_path not in sys.path:\n",
    "    sys.path.append(module_path)\n",
    "\n",
    "import torch\n",
    "import torch_geometric.transforms as T\n",
    "\n",
    "from libs.loader import DNS"
   ]
  },
  {
   "cell_type": "code",
   "execution_count": 5,
   "metadata": {},
   "outputs": [],
   "source": [
    "dns_df = pd.read_csv('./data/DNS/oldlabels.csv')\n",
    "iplist = pd.read_csv('./data/DNS/nodes.ip.csv')['node_id'].tolist()\n",
    "iplist\n",
    "dns_df = dns_df[~dns_df['node_id'].isin(iplist)]\n",
    "dns_df.to_csv('./data/DNS/extras.csv', index=False)"
   ]
  },
  {
   "cell_type": "code",
   "execution_count": 8,
   "metadata": {},
   "outputs": [
    {
     "data": {
      "text/html": [
       "<div>\n",
       "<style scoped>\n",
       "    .dataframe tbody tr th:only-of-type {\n",
       "        vertical-align: middle;\n",
       "    }\n",
       "\n",
       "    .dataframe tbody tr th {\n",
       "        vertical-align: top;\n",
       "    }\n",
       "\n",
       "    .dataframe thead th {\n",
       "        text-align: right;\n",
       "    }\n",
       "</style>\n",
       "<table border=\"1\" class=\"dataframe\">\n",
       "  <thead>\n",
       "    <tr style=\"text-align: right;\">\n",
       "      <th></th>\n",
       "      <th>type</th>\n",
       "      <th>#count</th>\n",
       "    </tr>\n",
       "  </thead>\n",
       "  <tbody>\n",
       "    <tr>\n",
       "      <th>2</th>\n",
       "      <td>n_a</td>\n",
       "      <td>689540</td>\n",
       "    </tr>\n",
       "    <tr>\n",
       "      <th>1</th>\n",
       "      <td>malicious</td>\n",
       "      <td>20354</td>\n",
       "    </tr>\n",
       "    <tr>\n",
       "      <th>0</th>\n",
       "      <td>benign</td>\n",
       "      <td>4963</td>\n",
       "    </tr>\n",
       "  </tbody>\n",
       "</table>\n",
       "</div>"
      ],
      "text/plain": [
       "        type  #count\n",
       "2        n_a  689540\n",
       "1  malicious   20354\n",
       "0     benign    4963"
      ]
     },
     "execution_count": 8,
     "metadata": {},
     "output_type": "execute_result"
    }
   ],
   "source": [
    "dns_df = pd.read_csv('./data/DNS/oldlabels.csv')\n",
    "dns_df = dns_df[~dns_df['node_id'].str.startswith('i')]\n",
    "dns_df.to_csv('./data/DNS/extras.csv', index=False)\n",
    "dns_df.tail()\n",
    "\n",
    "dns_df.groupby(by='type').size().reset_index(name='#count').sort_values(by='#count', ascending=False)"
   ]
  },
  {
   "cell_type": "code",
   "execution_count": 9,
   "metadata": {},
   "outputs": [
    {
     "data": {
      "text/html": [
       "<div>\n",
       "<style scoped>\n",
       "    .dataframe tbody tr th:only-of-type {\n",
       "        vertical-align: middle;\n",
       "    }\n",
       "\n",
       "    .dataframe tbody tr th {\n",
       "        vertical-align: top;\n",
       "    }\n",
       "\n",
       "    .dataframe thead th {\n",
       "        text-align: right;\n",
       "    }\n",
       "</style>\n",
       "<table border=\"1\" class=\"dataframe\">\n",
       "  <thead>\n",
       "    <tr style=\"text-align: right;\">\n",
       "      <th></th>\n",
       "      <th>type</th>\n",
       "      <th>#count</th>\n",
       "    </tr>\n",
       "  </thead>\n",
       "  <tbody>\n",
       "    <tr>\n",
       "      <th>0</th>\n",
       "      <td>benign</td>\n",
       "      <td>4668</td>\n",
       "    </tr>\n",
       "    <tr>\n",
       "      <th>1</th>\n",
       "      <td>malicious</td>\n",
       "      <td>2827</td>\n",
       "    </tr>\n",
       "  </tbody>\n",
       "</table>\n",
       "</div>"
      ],
      "text/plain": [
       "        type  #count\n",
       "0     benign    4668\n",
       "1  malicious    2827"
      ]
     },
     "execution_count": 9,
     "metadata": {},
     "output_type": "execute_result"
    }
   ],
   "source": [
    "mdns_df = pd.read_csv('./data/mDNS/extras.csv')\n",
    "mdns_df.groupby(by='type').size().reset_index(name='#count').sort_values(by='#count', ascending=False)"
   ]
  },
  {
   "cell_type": "code",
   "execution_count": 12,
   "metadata": {},
   "outputs": [
    {
     "data": {
      "text/plain": [
       "tensor([3, 0, 4, 2, 1])"
      ]
     },
     "execution_count": 12,
     "metadata": {},
     "output_type": "execute_result"
    }
   ],
   "source": [
    "torch.randperm(5)"
   ]
  },
  {
   "cell_type": "markdown",
   "metadata": {},
   "source": [
    "## Load Graphs"
   ]
  },
  {
   "cell_type": "code",
   "execution_count": 4,
   "metadata": {},
   "outputs": [],
   "source": [
    "kg_path = lambda graph_name: f'./data/{graph_name}'"
   ]
  },
  {
   "cell_type": "markdown",
   "metadata": {
    "tags": []
   },
   "source": [
    "#### mDNS"
   ]
  },
  {
   "cell_type": "code",
   "execution_count": 5,
   "metadata": {},
   "outputs": [
    {
     "name": "stdout",
     "output_type": "stream",
     "text": [
      "Remove parallel edges: Series([], dtype: int64)\n"
     ]
    },
    {
     "data": {
      "text/plain": [
       "HeteroData(\n",
       "  \u001b[1mip_node\u001b[0m={\n",
       "    num_nodes=4505,\n",
       "    x=[4505, 2]\n",
       "  },\n",
       "  \u001b[1mdomain_node\u001b[0m={\n",
       "    num_nodes=7495,\n",
       "    x=[7495, 10],\n",
       "    y=[7495],\n",
       "    train_mask=[7495],\n",
       "    test_mask=[7495],\n",
       "    val_mask=[7495]\n",
       "  },\n",
       "  \u001b[1m(domain_node, apex, domain_node)\u001b[0m={ edge_index=[2, 3320] },\n",
       "  \u001b[1m(ip_node, resolves, domain_node)\u001b[0m={ edge_index=[2, 34119] },\n",
       "  \u001b[1m(domain_node, similar, domain_node)\u001b[0m={ edge_index=[2, 3012] },\n",
       "  \u001b[1m(domain_node, rev_resolves, ip_node)\u001b[0m={ edge_index=[2, 34119] }\n",
       ")"
      ]
     },
     "execution_count": 5,
     "metadata": {},
     "output_type": "execute_result"
    }
   ],
   "source": [
    "dataset = DNS(root=kg_path('mDNS'), transform=T.Compose([T.NormalizeFeatures(), T.ToUndirected()]))\n",
    "dataset[0]"
   ]
  },
  {
   "cell_type": "markdown",
   "metadata": {
    "tags": []
   },
   "source": [
    "#### DNS"
   ]
  },
  {
   "cell_type": "code",
   "execution_count": 8,
   "metadata": {},
   "outputs": [
    {
     "name": "stdout",
     "output_type": "stream",
     "text": [
      "Remove parallel edges: type\n",
      "similar    50910\n",
      "dtype: int64\n"
     ]
    },
    {
     "data": {
      "text/plain": [
       "HeteroData(\n",
       "  \u001b[1mip_node\u001b[0m={\n",
       "    num_nodes=73593,\n",
       "    x=[73593, 2]\n",
       "  },\n",
       "  \u001b[1mdomain_node\u001b[0m={\n",
       "    num_nodes=373475,\n",
       "    x=[373475, 10],\n",
       "    y=[447068],\n",
       "    train_mask=[373475],\n",
       "    test_mask=[373475],\n",
       "    val_mask=[373475]\n",
       "  },\n",
       "  \u001b[1m(domain_node, apex, domain_node)\u001b[0m={ edge_index=[2, 178944] },\n",
       "  \u001b[1m(domain_node, resolves, ip_node)\u001b[0m={ edge_index=[2, 730438] },\n",
       "  \u001b[1m(domain_node, similar, domain_node)\u001b[0m={ edge_index=[2, 155356] },\n",
       "  \u001b[1m(ip_node, rev_resolves, domain_node)\u001b[0m={ edge_index=[2, 730438] }\n",
       ")"
      ]
     },
     "execution_count": 8,
     "metadata": {},
     "output_type": "execute_result"
    }
   ],
   "source": [
    "dataset = DNS(root=kg_path('DNS'), transform=T.Compose([T.NormalizeFeatures(), T.ToUndirected()]))\n",
    "dataset[0]"
   ]
  },
  {
   "cell_type": "code",
   "execution_count": 7,
   "metadata": {},
   "outputs": [
    {
     "data": {
      "text/plain": [
       "Data(\n",
       "  node_type=[447068],\n",
       "  x=[447068, 12],\n",
       "  edge_index=[2, 897588],\n",
       "  edge_type=[897588],\n",
       "  train_mask=[447068],\n",
       "  val_mask=[447068],\n",
       "  test_mask=[447068],\n",
       "  y=[520661],\n",
       "  edge_map={\n",
       "    0=[2],\n",
       "    1=[2],\n",
       "    2=[2]\n",
       "  },\n",
       "  num_nodes=447068\n",
       ")"
      ]
     },
     "execution_count": 7,
     "metadata": {},
     "output_type": "execute_result"
    }
   ],
   "source": [
    "dataset.to_homogeneous()"
   ]
  },
  {
   "cell_type": "code",
   "execution_count": 1,
   "metadata": {},
   "outputs": [
    {
     "data": {
      "text/plain": [
       "'/home/local/QCRI/fdeniz/ucsc3/data.zip'"
      ]
     },
     "execution_count": 1,
     "metadata": {},
     "output_type": "execute_result"
    }
   ],
   "source": [
    "import shutil\n",
    "\n",
    "shutil.make_archive('data', 'zip', './data')"
   ]
  },
  {
   "cell_type": "code",
   "execution_count": null,
   "metadata": {},
   "outputs": [],
   "source": []
  }
 ],
 "metadata": {
  "kernelspec": {
   "display_name": "Python 3",
   "language": "python",
   "name": "python3"
  },
  "language_info": {
   "codemirror_mode": {
    "name": "ipython",
    "version": 3
   },
   "file_extension": ".py",
   "mimetype": "text/x-python",
   "name": "python",
   "nbconvert_exporter": "python",
   "pygments_lexer": "ipython3",
   "version": "3.8.5"
  }
 },
 "nbformat": 4,
 "nbformat_minor": 4
}
