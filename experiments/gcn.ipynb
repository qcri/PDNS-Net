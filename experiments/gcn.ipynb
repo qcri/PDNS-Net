{
 "cells": [
  {
   "cell_type": "markdown",
   "metadata": {},
   "source": [
    "# Load DNS and mDNS datasets"
   ]
  },
  {
   "cell_type": "code",
   "execution_count": 1,
   "metadata": {},
   "outputs": [
    {
     "name": "stderr",
     "output_type": "stream",
     "text": [
      "/home/local/QCRI/fdeniz/anaconda3/lib/python3.8/site-packages/tqdm/auto.py:22: TqdmWarning: IProgress not found. Please update jupyter and ipywidgets. See https://ipywidgets.readthedocs.io/en/stable/user_install.html\n",
      "  from .autonotebook import tqdm as notebook_tqdm\n"
     ]
    }
   ],
   "source": [
    "import os\n",
    "import sys\n",
    "\n",
    "import numpy as np\n",
    "import pandas as pd\n",
    "\n",
    "module_path = os.path.abspath(os.path.join('.'))\n",
    "if module_path not in sys.path:\n",
    "    sys.path.append(module_path)\n",
    "\n",
    "import torch\n",
    "import torch_geometric.transforms as T\n",
    "\n",
    "from libs.utils import score\n",
    "from libs.loader import DNS"
   ]
  },
  {
   "cell_type": "markdown",
   "metadata": {},
   "source": [
    "## Load Graphs"
   ]
  },
  {
   "cell_type": "code",
   "execution_count": 2,
   "metadata": {},
   "outputs": [],
   "source": [
    "kg_path = lambda graph_name: f'./data/{graph_name}'"
   ]
  },
  {
   "cell_type": "markdown",
   "metadata": {
    "tags": []
   },
   "source": [
    "#### mDNS"
   ]
  },
  {
   "cell_type": "code",
   "execution_count": 3,
   "metadata": {},
   "outputs": [],
   "source": [
    "# dataset = DNS(root=kg_path('mDNS'), transform=T.Compose([T.NormalizeFeatures(), T.ToUndirected()]), balance_gt=True)\n",
    "# data = dataset[0]\n",
    "# data['domain_node']['test_mask'].unique(return_counts=True)\n",
    "# # datadomain_node.test_mask"
   ]
  },
  {
   "cell_type": "markdown",
   "metadata": {
    "tags": []
   },
   "source": [
    "#### DNS"
   ]
  },
  {
   "cell_type": "code",
   "execution_count": 4,
   "metadata": {},
   "outputs": [
    {
     "name": "stdout",
     "output_type": "stream",
     "text": [
      "Remove parallel edges: type\n",
      "similar    50910\n",
      "dtype: int64\n"
     ]
    },
    {
     "data": {
      "text/plain": [
       "torch.Size([373475, 10])"
      ]
     },
     "execution_count": 4,
     "metadata": {},
     "output_type": "execute_result"
    }
   ],
   "source": [
    "dataset = DNS(root=kg_path('DNS'), transform=T.Compose([T.NormalizeFeatures(), T.ToUndirected()]), balance_gt=True)\n",
    "data = dataset[0]\n",
    "data['domain_node'].x.size()"
   ]
  },
  {
   "cell_type": "code",
   "execution_count": 5,
   "metadata": {},
   "outputs": [
    {
     "name": "stdout",
     "output_type": "stream",
     "text": [
      "(tensor([False,  True]), tensor([442682,   4386]))\n",
      "(tensor([False,  True]), tensor([444437,   2631]))\n"
     ]
    }
   ],
   "source": [
    "data = dataset.to_homogeneous()\n",
    "print(data.train_mask.unique(return_counts=True))\n",
    "print(data.test_mask.unique(return_counts=True))"
   ]
  },
  {
   "cell_type": "code",
   "execution_count": 6,
   "metadata": {},
   "outputs": [],
   "source": [
    "from torch_geometric.nn import GATConv, HeteroConv, Linear\n",
    "\n",
    "\n",
    "import torch\n",
    "import torch.nn.functional as F\n",
    "import torch.nn as nn\n",
    "from torch_geometric.nn import GCNConv, SAGEConv\n",
    "import sys\n",
    "sys.path.append('../')\n",
    "\n",
    "\n",
    "class GNN(torch.nn.Module):\n",
    "    def __init__(self, num_features, dim=16, num_classes=2, num_layers=2, model_type='gcn'):\n",
    "        super(GNN, self).__init__()\n",
    "\n",
    "        self.conv1 = SAGEConv(num_features, dim) if model_type == 'sage' else (GCNConv(num_features, dim) if model_type == 'gcn' else GATConv(num_features, dim))\n",
    "        self.gcs = nn.ModuleList()\n",
    "        self.num_layers = num_layers\n",
    "        for i in range(1, num_layers):\n",
    "            conv = SAGEConv(dim, dim) if model_type == 'sage' else (GCNConv(dim, dim) if model_type == 'gcn' else GATConv(dim, dim))\n",
    "            self.gcs.append(conv)\n",
    "        self.lin = Linear(dim, num_classes)\n",
    "\n",
    "    def forward(self, x, edge_index, data=None, save_embedding=False):\n",
    "        x = F.relu(self.conv1(x, edge_index))\n",
    "        x = F.dropout(x, training=self.training)\n",
    "        for i in range(1, self.num_layers):\n",
    "            x = F.relu(self.gcs[i-1](x, edge_index))\n",
    "            x = F.dropout(x, training=self.training)\n",
    "        return self.lin(x)\n",
    "\n",
    "\n",
    "    \n",
    "model = GNN(data.x.size(1), dim=64, num_classes=2,\n",
    "                  num_layers=2, model_type='gcn')"
   ]
  },
  {
   "cell_type": "code",
   "execution_count": 7,
   "metadata": {},
   "outputs": [
    {
     "name": "stdout",
     "output_type": "stream",
     "text": [
      "Epoch: 020, Loss: 0.5904, Train: 0.6961, Val: 0.7071, Test: 0.6883\n",
      "Epoch: 040, Loss: 0.5371, Train: 0.7462, Val: 0.7470, Test: 0.7507\n",
      "Epoch: 060, Loss: 0.5047, Train: 0.7544, Val: 0.7470, Test: 0.7590\n",
      "Epoch: 080, Loss: 0.4898, Train: 0.7654, Val: 0.7595, Test: 0.7765\n",
      "Epoch: 100, Loss: 0.4880, Train: 0.7677, Val: 0.7550, Test: 0.7780\n",
      "Epoch: 120, Loss: 0.4865, Train: 0.7638, Val: 0.7521, Test: 0.7735\n",
      "Epoch: 140, Loss: 0.4836, Train: 0.7615, Val: 0.7550, Test: 0.7697\n",
      "Epoch: 160, Loss: 0.4884, Train: 0.7656, Val: 0.7556, Test: 0.7739\n",
      "Epoch: 180, Loss: 0.4890, Train: 0.7674, Val: 0.7590, Test: 0.7792\n",
      "Epoch: 200, Loss: 0.4796, Train: 0.7699, Val: 0.7567, Test: 0.7826\n",
      "tn, fp, fn, tp 1119 222 350 940\n",
      "tn, fp, fn, tp 1119 222 350 940\n",
      "acc :0.78\n",
      "f1 :0.78\n",
      "auc :0.78\n",
      "prec :0.81\n",
      "recall :0.73\n",
      "fpr :0.17\n"
     ]
    }
   ],
   "source": [
    "cuda_device = 3\n",
    "torch.manual_seed(42)\n",
    "\n",
    "if torch.cuda.is_available():\n",
    "    device = torch.device('cuda' if torch.cuda.is_available() else 'cpu')\n",
    "    torch.cuda.set_device(cuda_device)\n",
    "\n",
    "    data, model = data.to(device), model.to(device)\n",
    "\n",
    "with torch.no_grad():  # Initialize lazy modules.\n",
    "    out = model(data.x, data.edge_index)\n",
    "\n",
    "optimizer = torch.optim.Adam(model.parameters(), lr=0.005, weight_decay=0.001)\n",
    "\n",
    "\n",
    "def train():\n",
    "    model.train()\n",
    "    optimizer.zero_grad()\n",
    "    out = model(data.x, data.edge_index)\n",
    "    mask = data.train_mask\n",
    "    loss = F.cross_entropy(out[mask], data.y[mask])\n",
    "    loss.backward()\n",
    "    optimizer.step()\n",
    "    return float(loss)\n",
    "\n",
    "\n",
    "@torch.no_grad()\n",
    "def test():\n",
    "    model.eval()\n",
    "    pred = model(data.x, data.edge_index).argmax(dim=-1)\n",
    "\n",
    "    accs = []\n",
    "    for split in ['train_mask', 'val_mask', 'test_mask']:\n",
    "        mask = data[split]\n",
    "        acc = (pred[mask] == data.y[mask]).sum() / mask.sum()\n",
    "        accs.append(float(acc))\n",
    "    return accs\n",
    "\n",
    "\n",
    "for epoch in range(1, 201):\n",
    "    loss = train()\n",
    "    train_acc, val_acc, test_acc = test()\n",
    "    if epoch % 20 == 0:\n",
    "        print(f'Epoch: {epoch:03d}, Loss: {loss:.4f}, Train: {train_acc:.4f}, '\n",
    "              f'Val: {val_acc:.4f}, Test: {test_acc:.4f}')\n",
    "    \n",
    "model.eval()\n",
    "with torch.no_grad():\n",
    "    pred = model(data.x, data.edge_index).argmax(dim=-1)\n",
    "mask = data['test_mask']\n",
    "scores = score(pred[mask],data.y[mask])\n",
    "for metric, score in scores.items():\n",
    "    print(metric, ':{:.2f}'.format(score))"
   ]
  },
  {
   "cell_type": "code",
   "execution_count": null,
   "metadata": {},
   "outputs": [],
   "source": []
  }
 ],
 "metadata": {
  "kernelspec": {
   "display_name": "Python 3",
   "language": "python",
   "name": "python3"
  },
  "language_info": {
   "codemirror_mode": {
    "name": "ipython",
    "version": 3
   },
   "file_extension": ".py",
   "mimetype": "text/x-python",
   "name": "python",
   "nbconvert_exporter": "python",
   "pygments_lexer": "ipython3",
   "version": "3.8.5"
  }
 },
 "nbformat": 4,
 "nbformat_minor": 4
}
