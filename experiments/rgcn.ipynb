{
 "cells": [
  {
   "cell_type": "markdown",
   "metadata": {},
   "source": [
    "# Load DNS and mDNS datasets"
   ]
  },
  {
   "cell_type": "code",
   "execution_count": 1,
   "metadata": {},
   "outputs": [],
   "source": [
    "import os\n",
    "import sys\n",
    "\n",
    "import numpy as np\n",
    "import pandas as pd\n",
    "\n",
    "module_path = os.path.abspath(os.path.join('.'))\n",
    "if module_path not in sys.path:\n",
    "    sys.path.append(module_path)\n",
    "\n",
    "import torch\n",
    "import torch_geometric.transforms as T\n",
    "\n",
    "from libs.utils import score\n",
    "from libs.loader import DNS"
   ]
  },
  {
   "cell_type": "markdown",
   "metadata": {},
   "source": [
    "## Load Graphs"
   ]
  },
  {
   "cell_type": "code",
   "execution_count": 2,
   "metadata": {},
   "outputs": [],
   "source": [
    "kg_path = lambda graph_name: f'./data/{graph_name}'"
   ]
  },
  {
   "cell_type": "markdown",
   "metadata": {
    "tags": []
   },
   "source": [
    "#### mDNS"
   ]
  },
  {
   "cell_type": "code",
   "execution_count": 3,
   "metadata": {},
   "outputs": [],
   "source": [
    "# dataset = DNS(root=kg_path('mDNS'), transform=T.Compose([T.NormalizeFeatures(), T.ToUndirected()]), balance_gt=True)\n",
    "# data = dataset[0]\n",
    "# # data['domain_node']['test_mask'].unique(return_counts=True)\n",
    "# # # datadomain_node.test_mask"
   ]
  },
  {
   "cell_type": "markdown",
   "metadata": {
    "tags": []
   },
   "source": [
    "#### DNS"
   ]
  },
  {
   "cell_type": "code",
   "execution_count": 4,
   "metadata": {},
   "outputs": [
    {
     "name": "stdout",
     "output_type": "stream",
     "text": [
      "Remove parallel edges: type\n",
      "similar    50910\n",
      "dtype: int64\n",
      "<class 'numpy.ndarray'> <class 'numpy.ndarray'>\n",
      "Mal nodes [     3     17     25 ... 373420 373431 373464]\n",
      "Mal nodes 4386\n",
      "Ben nodes 4386\n",
      "8772 [359268 293963 301564 ...  59017  83459  74034]\n"
     ]
    },
    {
     "data": {
      "text/plain": [
       "torch.Size([373475, 10])"
      ]
     },
     "execution_count": 4,
     "metadata": {},
     "output_type": "execute_result"
    }
   ],
   "source": [
    "dataset = DNS(root=kg_path('DNS'), transform=T.Compose([T.NormalizeFeatures(), T.ToUndirected()]), balance_gt=True)\n",
    "data = dataset[0]\n",
    "data['domain_node'].x.size()"
   ]
  },
  {
   "cell_type": "code",
   "execution_count": 5,
   "metadata": {},
   "outputs": [
    {
     "name": "stdout",
     "output_type": "stream",
     "text": [
      "(tensor([False,  True]), tensor([442682,   4386]))\n",
      "(tensor([False,  True]), tensor([444437,   2631]))\n"
     ]
    },
    {
     "data": {
      "text/plain": [
       "(tensor([0, 1, 2]), tensor([ 89472, 730438,  77678]))"
      ]
     },
     "execution_count": 5,
     "metadata": {},
     "output_type": "execute_result"
    }
   ],
   "source": [
    "data = dataset.to_homogeneous()\n",
    "print(data.train_mask.unique(return_counts=True))\n",
    "print(data.test_mask.unique(return_counts=True))\n",
    "data.edge_type.unique(return_counts=True)"
   ]
  },
  {
   "cell_type": "code",
   "execution_count": 6,
   "metadata": {},
   "outputs": [
    {
     "data": {
      "text/plain": [
       "RGCN(\n",
       "  (conv1): RGCNConv(12, 64, num_relations=3)\n",
       "  (gcs): ModuleList(\n",
       "    (0): RGCNConv(64, 64, num_relations=3)\n",
       "  )\n",
       "  (lin): Linear(64, 2, bias=True)\n",
       ")"
      ]
     },
     "execution_count": 6,
     "metadata": {},
     "output_type": "execute_result"
    }
   ],
   "source": [
    "import torch\n",
    "import torch.nn.functional as F\n",
    "import torch.nn as nn\n",
    "from torch_geometric.nn import RGCNConv, Linear\n",
    "\n",
    "\n",
    "class RGCN(torch.nn.Module):\n",
    "    def __init__(self, num_features, dim=16, num_classes=2, num_layers=2):\n",
    "        super(RGCN, self).__init__()\n",
    "\n",
    "        self.conv1 = RGCNConv(num_features, dim, num_relations=3)\n",
    "        self.gcs = nn.ModuleList()\n",
    "        self.num_layers = num_layers\n",
    "        for i in range(1, num_layers):\n",
    "            conv = RGCNConv(dim, dim, num_relations=3) \n",
    "            self.gcs.append(conv)\n",
    "        self.lin = Linear(dim, num_classes)\n",
    "\n",
    "    def forward(self, x, edge_index, edge_type):\n",
    "        x = F.relu(self.conv1(x, edge_index, edge_type))\n",
    "        x = F.dropout(x, training=self.training)\n",
    "        for i in range(1, self.num_layers):\n",
    "            x = F.relu(self.gcs[i-1](x, edge_index, edge_type))\n",
    "            x = F.dropout(x, training=self.training)\n",
    "        return self.lin(x)\n",
    "\n",
    "\n",
    "    \n",
    "model = RGCN(data.x.size(1), dim=64, num_classes=2,\n",
    "                  num_layers=2)\n",
    "\n",
    "model"
   ]
  },
  {
   "cell_type": "code",
   "execution_count": 7,
   "metadata": {},
   "outputs": [
    {
     "name": "stdout",
     "output_type": "stream",
     "text": [
      "Epoch: 020, Loss: 0.5196, Train: 0.7617, Val: 0.7578, Test: 0.7651\n",
      "Epoch: 040, Loss: 0.5006, Train: 0.7656, Val: 0.7641, Test: 0.7689\n",
      "Epoch: 060, Loss: 0.4876, Train: 0.7684, Val: 0.7652, Test: 0.7700\n",
      "Epoch: 080, Loss: 0.4771, Train: 0.7688, Val: 0.7675, Test: 0.7704\n",
      "Epoch: 100, Loss: 0.4702, Train: 0.7699, Val: 0.7704, Test: 0.7735\n",
      "Epoch: 120, Loss: 0.4704, Train: 0.7736, Val: 0.7755, Test: 0.7765\n",
      "Epoch: 140, Loss: 0.4680, Train: 0.7779, Val: 0.7801, Test: 0.7796\n",
      "Epoch: 160, Loss: 0.4616, Train: 0.7761, Val: 0.7789, Test: 0.7754\n",
      "Epoch: 180, Loss: 0.4584, Train: 0.7759, Val: 0.7858, Test: 0.7784\n",
      "Epoch: 200, Loss: 0.4558, Train: 0.7827, Val: 0.7903, Test: 0.7837\n",
      "tn, fp, fn, tp 1099 222 347 963\n",
      "tn, fp, fn, tp 1099 222 347 963\n",
      "acc :0.78\n",
      "f1 :0.78\n",
      "auc :0.78\n",
      "prec :0.81\n",
      "recall :0.74\n",
      "fpr :0.17\n"
     ]
    }
   ],
   "source": [
    "cuda_device = 2\n",
    "torch.manual_seed(42)\n",
    "\n",
    "if torch.cuda.is_available():\n",
    "    device = torch.device('cuda' if torch.cuda.is_available() else 'cpu')\n",
    "    torch.cuda.set_device(cuda_device)\n",
    "\n",
    "    data, model = data.to(device), model.to(device)\n",
    "\n",
    "with torch.no_grad():  # Initialize lazy modules.\n",
    "    out = model(data.x, data.edge_index, data.edge_type)\n",
    "\n",
    "optimizer = torch.optim.Adam(model.parameters(), lr=0.005, weight_decay=0.001)\n",
    "\n",
    "\n",
    "def train():\n",
    "    model.train()\n",
    "    optimizer.zero_grad()\n",
    "    out = model(data.x, data.edge_index, data.edge_type)\n",
    "    mask = data.train_mask\n",
    "    loss = F.cross_entropy(out[mask], data.y[mask])\n",
    "    loss.backward()\n",
    "    optimizer.step()\n",
    "    return float(loss)\n",
    "\n",
    "\n",
    "@torch.no_grad()\n",
    "def test():\n",
    "    model.eval()\n",
    "    pred = model(data.x, data.edge_index, data.edge_type).argmax(dim=-1)\n",
    "\n",
    "    accs = []\n",
    "    for split in ['train_mask', 'val_mask', 'test_mask']:\n",
    "        mask = data[split]\n",
    "        acc = (pred[mask] == data.y[mask]).sum() / mask.sum()\n",
    "        accs.append(float(acc))\n",
    "    return accs\n",
    "\n",
    "\n",
    "for epoch in range(1, 201):\n",
    "    loss = train()\n",
    "    train_acc, val_acc, test_acc = test()\n",
    "    if epoch % 20 == 0:\n",
    "        print(f'Epoch: {epoch:03d}, Loss: {loss:.4f}, Train: {train_acc:.4f}, '\n",
    "              f'Val: {val_acc:.4f}, Test: {test_acc:.4f}')\n",
    "    \n",
    "model.eval()\n",
    "with torch.no_grad():\n",
    "    pred = model(data.x, data.edge_index, data.edge_type).argmax(dim=-1)\n",
    "mask = data['test_mask']\n",
    "scores = score(pred[mask],data.y[mask])\n",
    "for metric, score in scores.items():\n",
    "    print(metric, ':{:.2f}'.format(score))"
   ]
  },
  {
   "cell_type": "code",
   "execution_count": null,
   "metadata": {},
   "outputs": [],
   "source": []
  }
 ],
 "metadata": {
  "kernelspec": {
   "display_name": "Python 3",
   "language": "python",
   "name": "python3"
  },
  "language_info": {
   "codemirror_mode": {
    "name": "ipython",
    "version": 3
   },
   "file_extension": ".py",
   "mimetype": "text/x-python",
   "name": "python",
   "nbconvert_exporter": "python",
   "pygments_lexer": "ipython3",
   "version": "3.8.5"
  }
 },
 "nbformat": 4,
 "nbformat_minor": 4
}
